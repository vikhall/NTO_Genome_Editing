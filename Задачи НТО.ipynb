{
 "cells": [
  {
   "cell_type": "markdown",
   "id": "3f9fa03a",
   "metadata": {},
   "source": [
    "# Задачи на операции с числами"
   ]
  },
  {
   "cell_type": "markdown",
   "id": "943be01f",
   "metadata": {},
   "source": [
    "## Приготовление растворов"
   ]
  },
  {
   "cell_type": "markdown",
   "id": "93b6782d",
   "metadata": {},
   "source": [
    "Задача. Напишите программу, которая будет вычислять, сколько сухого вещества нужно добавить в раствор для достижения нужной молярной концентрации. При помощи функции input() считайте строку, которая будет содержать следующие значения, разделенные одним знаком пробела: молярная масса вещества (г/моль), концентрация (моль/л) и объем раствора (л), который нужно приготовить. Выполните необходимые вычисления и выведите ответ на экран при помощи функции print() количество грамм вещества, которое необходимо добавить в раствор."
   ]
  },
  {
   "cell_type": "markdown",
   "id": "50b53506",
   "metadata": {},
   "source": [
    "In: 40 1 1\n",
    "\n",
    "Out: 40.0"
   ]
  },
  {
   "cell_type": "markdown",
   "id": "4dd3d5d5",
   "metadata": {},
   "source": [
    "C = m/M*V\n",
    "m = C*M*V"
   ]
  },
  {
   "cell_type": "code",
   "execution_count": 80,
   "id": "ea0c5dbb",
   "metadata": {
    "ExecuteTime": {
     "end_time": "2023-02-07T06:36:01.722157Z",
     "start_time": "2023-02-07T06:35:58.271784Z"
    }
   },
   "outputs": [
    {
     "name": "stdout",
     "output_type": "stream",
     "text": [
      "40 1 1\n",
      "40\n"
     ]
    }
   ],
   "source": [
    "num = list(map(int, input().split()))\n",
    "answ = int(num[0]) * int(num[1]) * int(num[2])\n",
    "print(answ)"
   ]
  },
  {
   "cell_type": "code",
   "execution_count": 81,
   "id": "b0d1c31a",
   "metadata": {
    "ExecuteTime": {
     "end_time": "2023-02-07T06:36:05.311096Z",
     "start_time": "2023-02-07T06:36:05.303096Z"
    }
   },
   "outputs": [],
   "source": [
    "def calcuclate_mass(C,M,V):\n",
    "    m = C * M * V\n",
    "    print(f'Вам необходимо добавить {m}г вещества!')"
   ]
  },
  {
   "cell_type": "code",
   "execution_count": 82,
   "id": "ffa817aa",
   "metadata": {
    "ExecuteTime": {
     "end_time": "2023-02-07T06:36:05.482905Z",
     "start_time": "2023-02-07T06:36:05.478906Z"
    }
   },
   "outputs": [
    {
     "name": "stdout",
     "output_type": "stream",
     "text": [
      "Вам необходимо добавить 40г вещества!\n"
     ]
    }
   ],
   "source": [
    "calcuclate_mass(C=1,M=40,V=1)"
   ]
  },
  {
   "cell_type": "markdown",
   "id": "99bd8b61",
   "metadata": {},
   "source": [
    "## Приготовление реакционной смеси"
   ]
  },
  {
   "cell_type": "markdown",
   "id": "916c8335",
   "metadata": {},
   "source": [
    "В лабораторном протоколе реакции лигирования в состав реакционной смеси входят следующие компоненты:\n",
    "\n",
    "ДНК-лигаза - 1 мкл\n",
    "\n",
    "буферный раствор - 2 мкл\n",
    "\n",
    "фрагмент ДНК - 0.5 мкг/мкл\n",
    "\n",
    "плазмида - 0.1 мкг/мкл\n",
    "\n",
    "вода - до 20 мкл."
   ]
  },
  {
   "cell_type": "markdown",
   "id": "912b2007",
   "metadata": {
    "ExecuteTime": {
     "end_time": "2023-02-03T11:25:16.881721Z",
     "start_time": "2023-02-03T11:25:16.866720Z"
    }
   },
   "source": [
    "Задача. Напишите программу, которая будет принимать (через input()) строку, содержащую следующие значения, разделенные одним знаком пробела: имеющаяся концентрация фрагмента и имеющаяся концентрация плазмиды (в мкг/мкл). Программа должна вычислить объем растворов фрагмента и плазмиды, которые нужно добавить в реакционную смесь (в мкл), и округлить их до второго знака после запятой при помощи функции round(). Если концентрации растворов достаточно для того, чтобы приготовить реакционную смесь, программа выводит на экран (при помощи print()) 3 числа (разделенные одним знаком пробела): объем раствора с фрагментом, объем раствора с плазмидой, объем воды (необходимый, чтобы довести объем всей реакционной смеси до 20 мкл). В противном случае, программа выводит сообщение: \"невозможно приготовить реакционную смесь при данных концентрациях растворов\"."
   ]
  },
  {
   "cell_type": "markdown",
   "id": "4981006f",
   "metadata": {
    "ExecuteTime": {
     "end_time": "2023-02-03T11:26:35.279363Z",
     "start_time": "2023-02-03T11:26:35.272085Z"
    }
   },
   "source": [
    "In1: 0.98 1.23\n",
    "    \n",
    "Out1: 10.2 1.63 5.17\n",
    "    \n",
    "In2: 0.11 2.14\n",
    "\n",
    "Out2: невозможно приготовить реакционную смесь при данных концентрациях растворов"
   ]
  },
  {
   "cell_type": "markdown",
   "id": "a0f3049a",
   "metadata": {},
   "source": [
    "C1*V1 = C2*V2\n",
    "V2 = C1*V1/C2"
   ]
  },
  {
   "cell_type": "code",
   "execution_count": 76,
   "id": "b0563f5f",
   "metadata": {
    "ExecuteTime": {
     "end_time": "2023-02-07T06:30:22.423590Z",
     "start_time": "2023-02-07T06:30:21.463413Z"
    }
   },
   "outputs": [
    {
     "name": "stdout",
     "output_type": "stream",
     "text": [
      "0.98 1.23\n",
      "10.2 1.63 5.17\n"
     ]
    }
   ],
   "source": [
    "c1v1_fragm = 0.5 * 20\n",
    "c1v1_plasm = 0.1 * 20\n",
    "\n",
    "c2_fragm, c2_plasm = list(map(float,input().split()))\n",
    "\n",
    "v2_fragm = round(c1v1_fragm/c2_fragm, 2)\n",
    "v2_plasm = round(c1v1_plasm/c2_plasm, 2)\n",
    "vh20 = round(20 - 1 - 2 - v2_fragm - v2_plasm, 2)\n",
    "\n",
    "if vh20 > 0:\n",
    "    print(v2_fragm, v2_plasm, vh20)\n",
    "else:\n",
    "    print('невозможно приготовить реакционную смесь при данных концентрациях растворов')"
   ]
  },
  {
   "cell_type": "code",
   "execution_count": 77,
   "id": "703b06e4",
   "metadata": {
    "ExecuteTime": {
     "end_time": "2023-02-07T06:32:52.931573Z",
     "start_time": "2023-02-07T06:32:52.927573Z"
    }
   },
   "outputs": [],
   "source": [
    "def calculate_lig(v2_fragm, v2_plasm, c1_fragm=0.5, c1_plasm=0.1, v1=20):\n",
    "    c1v1_fragm = c1_fragm * v1\n",
    "    c1v1_plasm = c1_plasm * v1\n",
    "    \n",
    "    v2_fragm = round(c1v1_fragm/c2_fragm, 2)\n",
    "    v2_plasm = round(c1v1_plasm/c2_plasm, 2)\n",
    "    vh20 = round(20 - 1 - 2 - v2_fragm - v2_plasm, 2)\n",
    "\n",
    "    if vh20 > 0:\n",
    "        print(v2_fragm, v2_plasm, vh20)\n",
    "    else:\n",
    "        print('невозможно приготовить реакционную смесь при данных концентрациях растворов')"
   ]
  },
  {
   "cell_type": "code",
   "execution_count": 79,
   "id": "21597387",
   "metadata": {
    "ExecuteTime": {
     "end_time": "2023-02-07T06:33:07.662199Z",
     "start_time": "2023-02-07T06:33:07.655199Z"
    }
   },
   "outputs": [
    {
     "name": "stdout",
     "output_type": "stream",
     "text": [
      "10.2 1.63 5.17\n"
     ]
    }
   ],
   "source": [
    "calculate_lig(0.98, 1.23)"
   ]
  },
  {
   "cell_type": "code",
   "execution_count": null,
   "id": "0fb55c6b",
   "metadata": {},
   "outputs": [],
   "source": []
  },
  {
   "cell_type": "markdown",
   "id": "7fbef8bf",
   "metadata": {},
   "source": [
    "# Задачи на операции со строками"
   ]
  },
  {
   "cell_type": "markdown",
   "id": "a7c497d8",
   "metadata": {},
   "source": [
    "## Поиск сайтов рестрикции"
   ]
  },
  {
   "cell_type": "markdown",
   "id": "761b7276",
   "metadata": {},
   "source": [
    "Задача. Напишите программу, которая будет принимать на вход (через input()) две последовательности, разделенные одним знаком пробела: сайт узнавания рестриктазы и последовательность ДНК (всегда в направлении 5'-3'). Выполните проверку на наличие этого сайта узнавания в последовательности и выведите на экран (при помощи print()) True, если сайт рестрикции есть в последовательности и False, если сайта рестрикции нет в последовательности."
   ]
  },
  {
   "cell_type": "markdown",
   "id": "cb97c038",
   "metadata": {},
   "source": [
    "In: AAGCTT CACACTAAGCTTATATCACATACA\n",
    "    \n",
    "Out: True"
   ]
  },
  {
   "cell_type": "code",
   "execution_count": 7,
   "id": "441caed0",
   "metadata": {
    "ExecuteTime": {
     "end_time": "2023-02-07T07:15:58.703201Z",
     "start_time": "2023-02-07T07:15:54.591283Z"
    }
   },
   "outputs": [
    {
     "name": "stdout",
     "output_type": "stream",
     "text": [
      "AAGCTT CACACTAAGCTTATATCACATACA\n",
      "True\n"
     ]
    }
   ],
   "source": [
    "site, sequence = input().split()\n",
    "print(site in sequence)"
   ]
  },
  {
   "cell_type": "code",
   "execution_count": null,
   "id": "afc939a5",
   "metadata": {},
   "outputs": [],
   "source": []
  },
  {
   "cell_type": "markdown",
   "id": "8e18ec79",
   "metadata": {},
   "source": [
    "### Поиск сайтов рестрикции - 2"
   ]
  },
  {
   "cell_type": "markdown",
   "id": "94eac7be",
   "metadata": {},
   "source": [
    "Задача. Напишите программу, которая будет принимать на вход (через input()) две последовательности, разделенные одним знаком пробела: сайт узнавания рестриктазы и последовательность ДНК (всегда в направлении 5'-3'). Выполните проверку на наличие этого сайта узнавания в последовательности и выведите на экран (при помощи print()) количество сайтов рестрикции в последовательности."
   ]
  },
  {
   "cell_type": "markdown",
   "id": "3fc1ced0",
   "metadata": {},
   "source": [
    "In: CATATG AATACACCATATGATATGATGTACCATATGTATATTGACCATATG\n",
    "    \n",
    "Out: 3"
   ]
  },
  {
   "cell_type": "code",
   "execution_count": 10,
   "id": "20a7d066",
   "metadata": {
    "ExecuteTime": {
     "end_time": "2023-02-07T07:18:42.690755Z",
     "start_time": "2023-02-07T07:18:38.815189Z"
    }
   },
   "outputs": [
    {
     "name": "stdout",
     "output_type": "stream",
     "text": [
      "CATATG AATACACCATATGATATGATGTACCATATGTATATTGACCATATG\n",
      "3\n"
     ]
    }
   ],
   "source": [
    "site, sequence = input().split()\n",
    "print(sequence.count(site))"
   ]
  },
  {
   "cell_type": "code",
   "execution_count": null,
   "id": "85af7935",
   "metadata": {},
   "outputs": [],
   "source": []
  },
  {
   "cell_type": "markdown",
   "id": "74f23a86",
   "metadata": {},
   "source": [
    "### Поиск сайтов рестрикции - 3"
   ]
  },
  {
   "cell_type": "markdown",
   "id": "ed85e79a",
   "metadata": {},
   "source": [
    "Задача. Напишите программу, которая будет принимать на вход (через input()) две последовательности, разделенные одним знаком пробела: сайт узнавания рестриктазы и последовательность ДНК (всегда в направлении 5'-3'). Сайт узнавания может содержать (а может и не содержать) дополнительные буквенные коды, обозначающие сразу несколько нуклеотидов. Выполните проверку наличия данного сайта узнвания (во всех возможных его вариациях) в последовательности. При помощи функции print() выведите на экран True, если такой сайт узнавания есть в последовательности и False в противном случае."
   ]
  },
  {
   "cell_type": "markdown",
   "id": "4276967e",
   "metadata": {},
   "source": [
    "In1: TCNGA ATACATCAGAAATATCACCAATACCG\n",
    "\n",
    "Out1: True\n",
    "    \n",
    "In2: YGGCCR ATATATCTACTATATGATTATCATGTGTATCAT\n",
    "\n",
    "Out2: False"
   ]
  },
  {
   "cell_type": "code",
   "execution_count": 27,
   "id": "5b48d385",
   "metadata": {
    "ExecuteTime": {
     "end_time": "2023-02-07T09:28:44.581514Z",
     "start_time": "2023-02-07T09:28:44.566515Z"
    }
   },
   "outputs": [],
   "source": [
    "import re"
   ]
  },
  {
   "cell_type": "code",
   "execution_count": 32,
   "id": "980d7a5d",
   "metadata": {
    "ExecuteTime": {
     "end_time": "2023-02-07T07:39:55.064962Z",
     "start_time": "2023-02-07T07:39:51.055090Z"
    }
   },
   "outputs": [
    {
     "name": "stdout",
     "output_type": "stream",
     "text": [
      "TCNGA ATACATCAGAAATATCACCAATACCG\n"
     ]
    }
   ],
   "source": [
    "site, sequence = input().split()"
   ]
  },
  {
   "cell_type": "code",
   "execution_count": 33,
   "id": "8daeb20b",
   "metadata": {
    "ExecuteTime": {
     "end_time": "2023-02-07T07:39:56.676961Z",
     "start_time": "2023-02-07T07:39:56.662961Z"
    }
   },
   "outputs": [],
   "source": [
    "nucl_dict = {\n",
    "    'A':'A',\n",
    "    'T':'T',\n",
    "    'G':'G',\n",
    "    'C':'C',\n",
    "    'R':'[AG]',\n",
    "    'Y':'[CT]',\n",
    "    'N':'[ATGC]'\n",
    "}"
   ]
  },
  {
   "cell_type": "code",
   "execution_count": 34,
   "id": "9858f371",
   "metadata": {
    "ExecuteTime": {
     "end_time": "2023-02-07T07:39:56.866961Z",
     "start_time": "2023-02-07T07:39:56.862960Z"
    }
   },
   "outputs": [],
   "source": [
    "pattern = ''\n",
    "\n",
    "for s in site:\n",
    "    pattern += nucl_dict[s]"
   ]
  },
  {
   "cell_type": "code",
   "execution_count": 35,
   "id": "06f60a7b",
   "metadata": {
    "ExecuteTime": {
     "end_time": "2023-02-07T07:39:57.040272Z",
     "start_time": "2023-02-07T07:39:57.023273Z"
    }
   },
   "outputs": [
    {
     "data": {
      "text/plain": [
       "True"
      ]
     },
     "execution_count": 35,
     "metadata": {},
     "output_type": "execute_result"
    }
   ],
   "source": [
    "bool(re.search(pattern, sequence))"
   ]
  },
  {
   "cell_type": "code",
   "execution_count": 36,
   "id": "8af855ac",
   "metadata": {
    "ExecuteTime": {
     "end_time": "2023-02-07T07:41:22.156083Z",
     "start_time": "2023-02-07T07:41:22.152083Z"
    }
   },
   "outputs": [],
   "source": [
    "def find_restriction_site(site, sequence):\n",
    "    nucl_dict = {\n",
    "    'A':'A',\n",
    "    'T':'T',\n",
    "    'G':'G',\n",
    "    'C':'C',\n",
    "    'R':'[AG]',\n",
    "    'Y':'[CT]',\n",
    "    'N':'[ATGC]'\n",
    "    }\n",
    "    pattern = ''\n",
    "\n",
    "    for s in site:\n",
    "        pattern += nucl_dict[s]\n",
    "        \n",
    "    return bool(re.search(pattern, sequence))"
   ]
  },
  {
   "cell_type": "code",
   "execution_count": 37,
   "id": "b4d245dc",
   "metadata": {
    "ExecuteTime": {
     "end_time": "2023-02-07T07:41:37.277681Z",
     "start_time": "2023-02-07T07:41:37.271681Z"
    }
   },
   "outputs": [
    {
     "data": {
      "text/plain": [
       "True"
      ]
     },
     "execution_count": 37,
     "metadata": {},
     "output_type": "execute_result"
    }
   ],
   "source": [
    "find_restriction_site('TCNGA', 'ATACATCAGAAATATCACCAATACCG')"
   ]
  },
  {
   "cell_type": "code",
   "execution_count": null,
   "id": "da3448ba",
   "metadata": {},
   "outputs": [],
   "source": []
  },
  {
   "cell_type": "markdown",
   "id": "a27ce0ab",
   "metadata": {},
   "source": [
    "### Поиск сайтов рестрикции - 4"
   ]
  },
  {
   "cell_type": "markdown",
   "id": "ac98902b",
   "metadata": {},
   "source": [
    "Исследователь в лаборатории работает в основном с рестриктазами XhoI, NdeI, SpeI, EcoRI, HindIII, BamHI. Данная задача проверяет, содержит ли последовательнось сайты узнавания этих рестриктаз."
   ]
  },
  {
   "cell_type": "markdown",
   "id": "fafe9d07",
   "metadata": {},
   "source": [
    "Задача. Напишите программу, которая будет принимает на вход (через input()) последовательность и проверяет, есть ли в ней сайты узнавания перечисленных выше рестриктаз. Выведите на экран (в алфавитном порядке, по возрастанию) все рестриктазы, сайты которых есть в последовательности. Если последовательность не содержит сайты узнавания ни одной рестриктазы, выведите на экран False."
   ]
  },
  {
   "cell_type": "markdown",
   "id": "b22b7f60",
   "metadata": {},
   "source": [
    "In: AGTGATGTATATAAGAGACATATGGTCACATATAGGCGCGCGATATAGCGCGCATATAGGATCCGCGCGCTCGAGC\n",
    "\n",
    "Out: BamHI NdeI XhoI"
   ]
  },
  {
   "cell_type": "code",
   "execution_count": 55,
   "id": "74a73e2d",
   "metadata": {
    "ExecuteTime": {
     "end_time": "2023-02-07T08:20:14.223903Z",
     "start_time": "2023-02-07T08:20:10.743902Z"
    }
   },
   "outputs": [
    {
     "name": "stdout",
     "output_type": "stream",
     "text": [
      "AGTGATGTATATAAGAGACATATGGTCACATATAGGCGCGCGATATAGCGCGCATATAGGATCCGCGCGCTCGAGC\n",
      "BamHI NdeI XhoI\n"
     ]
    }
   ],
   "source": [
    "restr_dict = {'BamHI':'GGATCC', \n",
    "              'EcoRI':'GAATTC', \n",
    "              'HindIII':'AAGCTT',\n",
    "              'NdeI':'CATATG', \n",
    "              'SpeI':'ACTAGT', \n",
    "              'XhoI':'CTCGAG'\n",
    "             }\n",
    "\n",
    "sequence = input()\n",
    "\n",
    "answer = []\n",
    "for restr_name in restr_dict.keys():\n",
    "    if find_restriction_site(restr_dict[restr_name], sequence):\n",
    "        answer.append(restr_name)\n",
    "        \n",
    "if answer:\n",
    "    print(*answer)\n",
    "else:\n",
    "    print(False)"
   ]
  },
  {
   "cell_type": "code",
   "execution_count": null,
   "id": "a58e5994",
   "metadata": {},
   "outputs": [],
   "source": []
  },
  {
   "cell_type": "markdown",
   "id": "321fd16b",
   "metadata": {},
   "source": [
    "## Обратно-комплиментарная цепь ДНК"
   ]
  },
  {
   "cell_type": "markdown",
   "id": "d4fdb26b",
   "metadata": {},
   "source": [
    "Задача. Напишите программу, которая будет принимать на вход (через input()) последовательность ДНК (в направлении 5'-3'). Найдите для этой последовательности обратно комплиментарную последовательность и выведите ее на экран (в направлении 5'-3') при помощи функции print(). Программа должна работать с последовательностями в любом регистре, и выводить ее на экран в том регистре, в котором она была подана на вход."
   ]
  },
  {
   "cell_type": "code",
   "execution_count": null,
   "id": "531ad533",
   "metadata": {},
   "outputs": [],
   "source": [
    "In: 5'-ATGTTACATGACG-3'\n",
    "    \n",
    "Out: CGTCATGTAACAT"
   ]
  },
  {
   "cell_type": "code",
   "execution_count": 16,
   "id": "bc520f75",
   "metadata": {
    "ExecuteTime": {
     "end_time": "2023-02-07T09:11:50.959728Z",
     "start_time": "2023-02-07T09:11:46.753126Z"
    }
   },
   "outputs": [
    {
     "name": "stdout",
     "output_type": "stream",
     "text": [
      "ATGTTACATGACG\n",
      "CGTCATGTAACAT\n"
     ]
    }
   ],
   "source": [
    "seq = input()\n",
    "\n",
    "seq_rev = seq[::-1]\n",
    "\n",
    "rev_dict = {\n",
    "    'A':'T',\n",
    "    'T':'A',\n",
    "    'G':'C',\n",
    "    'C':'G'\n",
    "}\n",
    "\n",
    "seq_rev_compl = ''.join([rev_dict[s] for s in seq_rev])\n",
    "    \n",
    "print(seq_rev_compl)"
   ]
  },
  {
   "cell_type": "code",
   "execution_count": null,
   "id": "460f2f39",
   "metadata": {},
   "outputs": [],
   "source": []
  },
  {
   "cell_type": "code",
   "execution_count": 12,
   "id": "ba8e2244",
   "metadata": {
    "ExecuteTime": {
     "end_time": "2023-02-07T09:10:34.416668Z",
     "start_time": "2023-02-07T09:10:34.406669Z"
    }
   },
   "outputs": [
    {
     "data": {
      "text/plain": [
       "['G', 'C', 'A', 'G', 'T', 'A', 'C', 'A', 'T', 'T', 'G', 'T', 'A']"
      ]
     },
     "execution_count": 12,
     "metadata": {},
     "output_type": "execute_result"
    }
   ],
   "source": [
    "[s for s in seq_rev]"
   ]
  },
  {
   "cell_type": "code",
   "execution_count": 22,
   "id": "3b68fdb1",
   "metadata": {
    "ExecuteTime": {
     "end_time": "2023-02-07T09:16:35.381640Z",
     "start_time": "2023-02-07T09:16:35.366640Z"
    }
   },
   "outputs": [],
   "source": [
    "seq_rev = 'CGTCATNNNGTAACAT'"
   ]
  },
  {
   "cell_type": "code",
   "execution_count": null,
   "id": "7fbf0974",
   "metadata": {},
   "outputs": [],
   "source": [
    "'R' 'A', 'G'\n",
    "'Y' 'T', 'C'"
   ]
  },
  {
   "cell_type": "code",
   "execution_count": 23,
   "id": "72d3d903",
   "metadata": {
    "ExecuteTime": {
     "end_time": "2023-02-07T09:16:36.882179Z",
     "start_time": "2023-02-07T09:16:36.870180Z"
    }
   },
   "outputs": [
    {
     "data": {
      "text/plain": [
       "['Y',\n",
       " 'R',\n",
       " 'Y',\n",
       " 'Y',\n",
       " 'R',\n",
       " 'Y',\n",
       " 'N',\n",
       " 'N',\n",
       " 'N',\n",
       " 'R',\n",
       " 'Y',\n",
       " 'R',\n",
       " 'R',\n",
       " 'Y',\n",
       " 'R',\n",
       " 'Y']"
      ]
     },
     "execution_count": 23,
     "metadata": {},
     "output_type": "execute_result"
    }
   ],
   "source": [
    "['R' if s == 'A' or s == 'G' else 'Y' if s == 'T' or s == 'C' else 'N' for s in seq_rev]"
   ]
  },
  {
   "cell_type": "code",
   "execution_count": null,
   "id": "4805fa87",
   "metadata": {},
   "outputs": [],
   "source": []
  },
  {
   "cell_type": "code",
   "execution_count": null,
   "id": "ab1e378e",
   "metadata": {},
   "outputs": [],
   "source": []
  },
  {
   "cell_type": "code",
   "execution_count": null,
   "id": "662926fd",
   "metadata": {},
   "outputs": [],
   "source": []
  },
  {
   "cell_type": "code",
   "execution_count": null,
   "id": "70ed83f3",
   "metadata": {},
   "outputs": [],
   "source": []
  },
  {
   "cell_type": "code",
   "execution_count": null,
   "id": "8647203d",
   "metadata": {},
   "outputs": [],
   "source": []
  },
  {
   "cell_type": "code",
   "execution_count": null,
   "id": "25186a9d",
   "metadata": {},
   "outputs": [],
   "source": []
  },
  {
   "cell_type": "code",
   "execution_count": null,
   "id": "1a1d30cc",
   "metadata": {},
   "outputs": [],
   "source": []
  },
  {
   "cell_type": "markdown",
   "id": "479cb3bb",
   "metadata": {},
   "source": [
    "# Подбор таргетной полседовательности для CRISPR/Cas"
   ]
  },
  {
   "cell_type": "markdown",
   "id": "c4ecdbde",
   "metadata": {},
   "source": [
    "Задача. Напишите функцию find_target, которая принимает на вход четыре аргумента. Последовательность, к которой будет подбираться таргет, последовательность PAM, ориентация PAM и длина таргетной последовательности. Последовательность, к которой будет подбираться таргет, подается в направлении 5'-3'. Последовательность PAM может содержать расширенные нуклеотидные символы (например, N - любой нуклеотид, R - A или G, V - A, C или G и др.). Ориентация PAM может принимать два значения: 'R', если PAM находится на 3'-конце от таргетной последовательности (как NGG у SpCas9), 'L' - если PAM находится на 5'-конце от таргетной последовательности (как TTTV у Cas12).\n",
    "\n",
    "Функция должна найти все возможные таргетные последовательности заданной длины для данного PAM (причем как на прямой, так и на комплиментарной цепи), добавить их в список и вернуть этот список."
   ]
  },
  {
   "cell_type": "markdown",
   "id": "75d12d27",
   "metadata": {
    "ExecuteTime": {
     "end_time": "2023-02-07T09:30:09.100046Z",
     "start_time": "2023-02-07T09:30:09.087047Z"
    }
   },
   "source": [
    "In: TGATGATCATCGATCGGTACGATCGATCCTAGCATGCATGGTACGATCGACTG NGG R 20\n",
    "    \n",
    "Out: ['ACGATCGATCCTAGCATGCA', 'TCGATCGTACCATGCATGCT']\n",
    "\n",
    "In2: TAGCTACGATCGATCGTTTCTAGCTACGATGCAAGAAAGATCGATCGATCGACGTACG YTTN L 21\n",
    "\n",
    "Out2: ['CATCGTAGCTAGAAACGATCG', 'CTTGCATCGTAGCTAGAAACG', 'TAGCTACGATGCAAGAAAGAT', 'TTGCATCGTAGCTAGAAACGA']"
   ]
  },
  {
   "cell_type": "code",
   "execution_count": 118,
   "id": "26064342",
   "metadata": {
    "ExecuteTime": {
     "end_time": "2023-02-07T10:30:28.578233Z",
     "start_time": "2023-02-07T10:30:28.567233Z"
    }
   },
   "outputs": [],
   "source": [
    "import regex as re"
   ]
  },
  {
   "cell_type": "code",
   "execution_count": 109,
   "id": "2a38b6f7",
   "metadata": {
    "ExecuteTime": {
     "end_time": "2023-02-07T10:21:09.615214Z",
     "start_time": "2023-02-07T10:21:08.647340Z"
    }
   },
   "outputs": [
    {
     "name": "stdout",
     "output_type": "stream",
     "text": [
      "TAGCTACGATCGATCGTTTCTAGCTACGATGCAAGAAAGATCGATCGATCGACGTACG YTTN L 21\n"
     ]
    }
   ],
   "source": [
    "seq, pam, ori, dln = input().split()"
   ]
  },
  {
   "cell_type": "code",
   "execution_count": 119,
   "id": "099f61d2",
   "metadata": {
    "ExecuteTime": {
     "end_time": "2023-02-07T10:30:49.216990Z",
     "start_time": "2023-02-07T10:30:49.199990Z"
    }
   },
   "outputs": [],
   "source": [
    "def find_target(seq, pam, pos, length):\n",
    "    rev_dict = {\n",
    "        'A':'T',\n",
    "        'T':'A',\n",
    "        'G':'C',\n",
    "        'C':'G'\n",
    "    }\n",
    "    seq_rev_compl = ''.join([rev_dict[s] for s in seq[::-1]])\n",
    "    \n",
    "    nucl_dict = {\n",
    "    'A':'A',\n",
    "    'T':'T',\n",
    "    'G':'G',\n",
    "    'C':'C',\n",
    "    'R':'[AG]',\n",
    "    'Y':'[CT]',\n",
    "    'N':'[ATGC]'\n",
    "    }\n",
    "    \n",
    "    pattern = ''.join([nucl_dict[n] for n in pam])\n",
    "    \n",
    "    if pos == 'R':\n",
    "        pattern = \".{\"+str(length)+\"}\"+pattern\n",
    "        target_f = re.findall(pattern, seq, overlapped=True)\n",
    "        target_f = list(map(lambda x: x[:-len(pam)], target_f))\n",
    "        \n",
    "        target_r = re.findall(pattern, seq_rev_compl, overlapped=True)\n",
    "        target_r = list(map(lambda x: x[:-len(pam)], target_r))\n",
    "            \n",
    "    else:\n",
    "        pattern = pattern + \".{\"+str(length)+\"}\"\n",
    "        target_f = re.findall(pattern, seq, overlapped=True)\n",
    "        target_f = list(map(lambda x: x[len(pam):], target_f))\n",
    "        \n",
    "        target_r = re.findall(pattern, seq_rev_compl, overlapped=True)\n",
    "        target_r = list(map(lambda x: x[len(pam):], target_r))\n",
    "        \n",
    "    print(target_f + target_r)"
   ]
  },
  {
   "cell_type": "code",
   "execution_count": 120,
   "id": "335289f6",
   "metadata": {
    "ExecuteTime": {
     "end_time": "2023-02-07T10:30:49.405295Z",
     "start_time": "2023-02-07T10:30:49.399296Z"
    }
   },
   "outputs": [
    {
     "name": "stdout",
     "output_type": "stream",
     "text": [
      "['TAGCTACGATGCAAGAAAGAT', 'CTTGCATCGTAGCTAGAAACG', 'TTGCATCGTAGCTAGAAACGA', 'CATCGTAGCTAGAAACGATCG']\n"
     ]
    }
   ],
   "source": [
    "find_target(seq, pam, ori, dln)"
   ]
  },
  {
   "cell_type": "code",
   "execution_count": null,
   "id": "03127e90",
   "metadata": {
    "ExecuteTime": {
     "end_time": "2023-02-07T10:08:54.605397Z",
     "start_time": "2023-02-07T10:08:54.591397Z"
    }
   },
   "outputs": [],
   "source": []
  },
  {
   "cell_type": "code",
   "execution_count": null,
   "id": "0629db09",
   "metadata": {},
   "outputs": [],
   "source": []
  },
  {
   "cell_type": "markdown",
   "id": "a4ee7d34",
   "metadata": {},
   "source": [
    "# Подбор праймеров"
   ]
  },
  {
   "cell_type": "markdown",
   "id": "23cb97f8",
   "metadata": {},
   "source": [
    "## Проверка качества праймеров"
   ]
  },
  {
   "cell_type": "markdown",
   "id": "d8632632",
   "metadata": {},
   "source": [
    "Задача. Напишите функцию check_primer, которая будет принимать на вход следующие аргументы: последовательность праймера (в любом регистре), минимально допустимый ГЦ-состав (процент нуклеотидов Г и Ц от всех нуклеотидов в последовательности) (значение по умолчанию 50), максимально допустимый ГЦ-состав (значение по умолчанию 60), минимально допустимая длина праймера (значение по умолчанию 18), максимально допустимая длина праймера (значение по умолчанию 25). Функция должна вычислить ГЦ-состав и длину праймера и проверить, находятся ли они в допустимых пределах (включая минимально и максимально допустимое значение). Если значения ГЦ-состава и длины праймера находятся в допустимых пределах, функция должна вернуть True, иначе - False."
   ]
  },
  {
   "cell_type": "markdown",
   "id": "7a2ba7a5",
   "metadata": {},
   "source": [
    "In1: ATGGCAGGCACACGATACAGG\n",
    "    \n",
    "Out1: True\n",
    "    \n",
    "In2: CCAGCATATGACAGGCACAGTTGC 55 65 20 25\n",
    "    \n",
    "Out2: False"
   ]
  },
  {
   "cell_type": "code",
   "execution_count": 14,
   "id": "a29d68d0",
   "metadata": {
    "ExecuteTime": {
     "end_time": "2023-02-07T12:50:43.752731Z",
     "start_time": "2023-02-07T12:50:43.743731Z"
    }
   },
   "outputs": [],
   "source": [
    "def check_primer(seq, min_gc=50, max_gc=60, min_len=18, max_len=25):\n",
    "    gc = (seq.count('G') + seq.count('C')) / len(seq) * 100\n",
    "    length = len(seq)\n",
    "    \n",
    "    return (min_gc <= gc <= max_gc) and (min_len <= length <= max_len)"
   ]
  },
  {
   "cell_type": "code",
   "execution_count": 16,
   "id": "a2b60259",
   "metadata": {
    "ExecuteTime": {
     "end_time": "2023-02-07T12:51:33.357641Z",
     "start_time": "2023-02-07T12:51:33.352641Z"
    }
   },
   "outputs": [
    {
     "data": {
      "text/plain": [
       "False"
      ]
     },
     "execution_count": 16,
     "metadata": {},
     "output_type": "execute_result"
    }
   ],
   "source": [
    "check_primer('CCAGCATATGACAGGCACAGTTGC', 55, 65, 20, 25)"
   ]
  },
  {
   "cell_type": "code",
   "execution_count": null,
   "id": "49bae82a",
   "metadata": {},
   "outputs": [],
   "source": []
  },
  {
   "cell_type": "markdown",
   "id": "fafbac39",
   "metadata": {},
   "source": [
    "## Поиск самокомплементарности "
   ]
  },
  {
   "cell_type": "markdown",
   "id": "c742177e",
   "metadata": {},
   "source": [
    "Задача. Напишите функцию is_self_compliment, которая будет принимать на вход последовательность праймера (в любом регистре, в направлении 5'-3') и максимально допустимое количество самокомпелментарных нуклеотидов на 3'-конце (целое число). Затем функция будет проверять, является ли заданное количество нуклеотидов с 3'-конца комплиментарными последовательности праймера. Функция должна возвращать True, если заданное количество нуклеотидов является самокомплиментарными, и False в противном случае."
   ]
  },
  {
   "cell_type": "markdown",
   "id": "255c9792",
   "metadata": {},
   "source": [
    "In1: 5'-ATGGCAGCCCACACGATACAGGG-3' 3\n",
    "    \n",
    "Out1: True\n",
    "    \n",
    "In2: GATTTGTAACTTCCTTTTTTCGC 4\n",
    "    \n",
    "Out2: False"
   ]
  },
  {
   "cell_type": "code",
   "execution_count": 17,
   "id": "fd9d05ad",
   "metadata": {
    "ExecuteTime": {
     "end_time": "2023-02-07T13:00:49.748155Z",
     "start_time": "2023-02-07T13:00:49.744155Z"
    }
   },
   "outputs": [],
   "source": [
    "def is_self_compliment(seq, compl):\n",
    "    rev_dict = {\n",
    "        'A':'T',\n",
    "        'T':'A',\n",
    "        'G':'C',\n",
    "        'C':'G'\n",
    "    }\n",
    "    seq_rev_compl = ''.join([rev_dict[s] for s in seq[::-1]])\n",
    "    \n",
    "    if seq_rev_compl[:compl] in seq:\n",
    "        return True\n",
    "    \n",
    "    return False"
   ]
  },
  {
   "cell_type": "code",
   "execution_count": 19,
   "id": "3b54cb51",
   "metadata": {
    "ExecuteTime": {
     "end_time": "2023-02-07T13:02:58.309942Z",
     "start_time": "2023-02-07T13:02:58.295942Z"
    }
   },
   "outputs": [
    {
     "data": {
      "text/plain": [
       "False"
      ]
     },
     "execution_count": 19,
     "metadata": {},
     "output_type": "execute_result"
    }
   ],
   "source": [
    "is_self_compliment('GATTTGTAACTTCCTTTTTTCGC', 4)"
   ]
  },
  {
   "cell_type": "code",
   "execution_count": null,
   "id": "87e4568f",
   "metadata": {},
   "outputs": [],
   "source": []
  },
  {
   "cell_type": "markdown",
   "id": "21c3a9e5",
   "metadata": {},
   "source": [
    "## Температура плавления праймера"
   ]
  },
  {
   "cell_type": "markdown",
   "id": "5548b931",
   "metadata": {},
   "source": [
    "Еще одна проверка, которую необходимо сделать для оценки качества праймера - это вычисление температуры плавления. Вычислить температуру плавления праймера можно по следующей формуле: Tm = 64.9 + 41 * (y + z - 16.4) / (w + x + y + z), где w, x, y, z - это число букв A, T, G и C соответственно.\n",
    "\n",
    "Задача. Напишите функцию calculate_tm, которая будет принимать последовательность праймера и возвращать его температуру плавления, округленную до целого (для округления используйте функцию round)."
   ]
  },
  {
   "cell_type": "markdown",
   "id": "952602b8",
   "metadata": {},
   "source": [
    "In: ATGGCAGGCACACGATACAGG\n",
    "    \n",
    "Out: 56"
   ]
  },
  {
   "cell_type": "code",
   "execution_count": 23,
   "id": "fbbb4bec",
   "metadata": {
    "ExecuteTime": {
     "end_time": "2023-02-07T13:05:42.300027Z",
     "start_time": "2023-02-07T13:05:42.288027Z"
    }
   },
   "outputs": [],
   "source": [
    "def calculate_tm(seq):\n",
    "    return round(64.9 + 41 * (seq.count('G') + seq.count('C') - 16.4) / (seq.count('A') + seq.count('T') + seq.count('G') + seq.count('C')))"
   ]
  },
  {
   "cell_type": "code",
   "execution_count": 24,
   "id": "c7d13818",
   "metadata": {
    "ExecuteTime": {
     "end_time": "2023-02-07T13:05:42.567377Z",
     "start_time": "2023-02-07T13:05:42.559377Z"
    }
   },
   "outputs": [
    {
     "data": {
      "text/plain": [
       "56"
      ]
     },
     "execution_count": 24,
     "metadata": {},
     "output_type": "execute_result"
    }
   ],
   "source": [
    "calculate_tm('ATGGCAGGCACACGATACAGG')"
   ]
  },
  {
   "cell_type": "code",
   "execution_count": null,
   "id": "f70b67a1",
   "metadata": {},
   "outputs": [],
   "source": []
  },
  {
   "cell_type": "markdown",
   "id": "832ba98c",
   "metadata": {},
   "source": [
    "## Алгоритм скользящего окна для подбора праймеров"
   ]
  },
  {
   "cell_type": "markdown",
   "id": "c1ce792c",
   "metadata": {},
   "source": [
    "Задача. Напишите функцию get_primer. Эта функция должна принимать на вход последовательность, для которой будет выполняться поиск праймеров, длину праймера, а также следующие параметры: минимально допустимый ГЦ-состав (значение по умолчанию 50), максимально допустимый ГЦ-состав (значение по умолчанию 60), минимально допустимая температура плавления (значение по умолчанию 50), максимально допустимая температура плавления (значение по умолчанию 60), максимально допустимое количество самокомплиментарных нуклеотидов на 3'-конце (значение по умолчанию 4). Затем функция будет проходить по последовательности с плавающим окном, длина которого равна заданной длине праймера и проверять, удовлетворяет ли последовательность внутри окна условиям (ГЦ состав и температура плавления находятся в заданном диапазоне, количество самокомплиментарных нуклеотидов на 3'-конце не больше заданного). Функция должна вернуть первый попавшийся праймер, который будет удовлетворять всем условиям и на этом остановиться. Если такой праймер не удалось найти, функция должна вернуть False."
   ]
  },
  {
   "cell_type": "markdown",
   "id": "050913ef",
   "metadata": {},
   "source": [
    "In: AATATACATACAATGCATCGATCGATCGACTAGCTAGCATCGATCGATCAGCTAGCATCGATC 20\n",
    "    \n",
    "Out: CAATGCATCGATCGATCGAC"
   ]
  },
  {
   "cell_type": "code",
   "execution_count": null,
   "id": "deef5e00",
   "metadata": {},
   "outputs": [],
   "source": [
    "def check_primer(seq, min_gc=50, max_gc=60, min_len=18, max_len=25):\n",
    "    gc = (seq.count('G') + seq.count('C')) / len(seq) * 100\n",
    "    length = len(seq)\n",
    "    \n",
    "    return (min_gc <= gc <= max_gc) and (min_len <= length <= max_len)"
   ]
  },
  {
   "cell_type": "code",
   "execution_count": null,
   "id": "076909c6",
   "metadata": {},
   "outputs": [],
   "source": [
    "def is_self_compliment(seq, compl):\n",
    "    rev_dict = {\n",
    "        'A':'T',\n",
    "        'T':'A',\n",
    "        'G':'C',\n",
    "        'C':'G'\n",
    "    }\n",
    "    seq_rev_compl = ''.join([rev_dict[s] for s in seq[::-1]])\n",
    "    \n",
    "    if seq_rev_compl[:compl] in seq:\n",
    "        return True\n",
    "    \n",
    "    return False"
   ]
  },
  {
   "cell_type": "code",
   "execution_count": null,
   "id": "6e1d0e0a",
   "metadata": {},
   "outputs": [],
   "source": [
    "def calculate_tm(seq):\n",
    "    return round(64.9 + 41 * (seq.count('G') + seq.count('C') - 16.4) / (seq.count('A') + seq.count('T') + seq.count('G') + seq.count('C')))"
   ]
  },
  {
   "cell_type": "code",
   "execution_count": 27,
   "id": "ba7e63c2",
   "metadata": {
    "ExecuteTime": {
     "end_time": "2023-02-07T13:27:31.588473Z",
     "start_time": "2023-02-07T13:27:31.575473Z"
    }
   },
   "outputs": [],
   "source": [
    "def get_primer(seq, length, min_gc=50, max_gc=60, min_temp=50, max_temp=60, max_self_compl=4):\n",
    "    \n",
    "    for i in range(0, len(seq) - length - 1):\n",
    "        primer = seq[i:i+length]\n",
    "        \n",
    "        if check_primer(primer, min_gc, max_gc) and not is_self_compliment(primer, max_self_compl+1) and (min_temp <= calculate_tm(primer) <= max_temp):\n",
    "            return primer\n",
    "        \n",
    "    return False"
   ]
  },
  {
   "cell_type": "code",
   "execution_count": 28,
   "id": "9bb8a4bf",
   "metadata": {
    "ExecuteTime": {
     "end_time": "2023-02-07T13:27:32.966168Z",
     "start_time": "2023-02-07T13:27:32.959168Z"
    }
   },
   "outputs": [
    {
     "data": {
      "text/plain": [
       "'CAATGCATCGATCGATCGAC'"
      ]
     },
     "execution_count": 28,
     "metadata": {},
     "output_type": "execute_result"
    }
   ],
   "source": [
    "get_primer('AATATACATACAATGCATCGATCGATCGACTAGCTAGCATCGATCGATCAGCTAGCATCGATC', 20)"
   ]
  },
  {
   "cell_type": "code",
   "execution_count": null,
   "id": "aea8d743",
   "metadata": {},
   "outputs": [],
   "source": []
  },
  {
   "cell_type": "markdown",
   "id": "e3e992b7",
   "metadata": {},
   "source": [
    "## Поиск обратного праймера"
   ]
  },
  {
   "cell_type": "markdown",
   "id": "d80418ff",
   "metadata": {},
   "source": [
    "Задача. Напишите функцию get_reverse_primer. Эта функция должна принимать на вход последовательность, для которой будет выполняться поиск праймеров, последовательность прямого праймера, длину обратного праймера, минимально допустимую длину ампликона, максимально допустимую длину ампликона, а также следующие параметры: минимально допустимый ГЦ-состав (значение по умолчанию 50), максимально допустимый ГЦ-состав (значение по умолчанию 60), минимально допустимая температура плавления (значение по умолчанию 50), максимально допустимая температура плавления (значение по умолчанию 60), максимально допустимое количество самокомплиментарных нуклеотидов на 3'-конце (значение по умолчанию 4).\n",
    "\n",
    "Затем функция должна найти обратный праймер с учетом последовательности прямого праймера и минимально и максимально возможной длины ампликона. Поиск необходимо начать с 5'-конца обратно-комплиментарной последовательности и вернуть первый попавшийся праймер, который будет удовлетворять всем условиям (также в направлении 5'-3'). Если такой праймер не удалось найти, функция должна вернуть False."
   ]
  },
  {
   "cell_type": "markdown",
   "id": "6b9786bb",
   "metadata": {},
   "source": [
    "In: AATATACATACAATGCATCGATCGATCGACTAGCTAGCATCGATCGATCAGCTAGCATCGATC CAATGCATCGATCGATCGAC 20 45 100\n",
    "    \n",
    "Out: TGCTAGCTGATCGATCGATG"
   ]
  },
  {
   "cell_type": "code",
   "execution_count": 39,
   "id": "45de7502",
   "metadata": {
    "ExecuteTime": {
     "end_time": "2023-02-07T13:45:57.091387Z",
     "start_time": "2023-02-07T13:45:57.078388Z"
    }
   },
   "outputs": [],
   "source": [
    "def get_reverse_primer(seq, forward, length, min_ampl, max_ampl, min_gc=50, max_gc=60, min_temp=50, max_temp=60, max_self_compl=4):\n",
    "    \n",
    "    start_pos = seq.find(forward) + min_ampl - length \n",
    "    end_pos = end if (end := seq.find(forward) + max_ampl) <= len(seq) else len(seq)\n",
    "    \n",
    "    target_seq = seq[start_pos:end_pos]\n",
    "    \n",
    "    rev_dict = {\n",
    "        'A':'T',\n",
    "        'T':'A',\n",
    "        'G':'C',\n",
    "        'C':'G'\n",
    "    }\n",
    "    target_seq_rev_compl = ''.join([rev_dict[s] for s in target_seq[::-1]])\n",
    "    \n",
    "    return get_primer(target_seq_rev_compl, length)"
   ]
  },
  {
   "cell_type": "code",
   "execution_count": 40,
   "id": "9e0506b0",
   "metadata": {
    "ExecuteTime": {
     "end_time": "2023-02-07T13:45:57.263731Z",
     "start_time": "2023-02-07T13:45:57.248731Z"
    }
   },
   "outputs": [
    {
     "data": {
      "text/plain": [
       "'TGCTAGCTGATCGATCGATG'"
      ]
     },
     "execution_count": 40,
     "metadata": {},
     "output_type": "execute_result"
    }
   ],
   "source": [
    "get_reverse_primer('AATATACATACAATGCATCGATCGATCGACTAGCTAGCATCGATCGATCAGCTAGCATCGATC', 'CAATGCATCGATCGATCGAC', 20, 45, 100)"
   ]
  },
  {
   "cell_type": "code",
   "execution_count": null,
   "id": "d36ec9f7",
   "metadata": {},
   "outputs": [],
   "source": []
  },
  {
   "cell_type": "code",
   "execution_count": null,
   "id": "c9ff443e",
   "metadata": {},
   "outputs": [],
   "source": []
  },
  {
   "cell_type": "code",
   "execution_count": null,
   "id": "e3a36fcc",
   "metadata": {},
   "outputs": [],
   "source": []
  },
  {
   "cell_type": "code",
   "execution_count": null,
   "id": "086a20f1",
   "metadata": {},
   "outputs": [],
   "source": []
  },
  {
   "cell_type": "code",
   "execution_count": null,
   "id": "7eb591f9",
   "metadata": {},
   "outputs": [],
   "source": []
  },
  {
   "cell_type": "code",
   "execution_count": null,
   "id": "5209491e",
   "metadata": {},
   "outputs": [],
   "source": []
  },
  {
   "cell_type": "code",
   "execution_count": null,
   "id": "dd62d140",
   "metadata": {},
   "outputs": [],
   "source": []
  },
  {
   "cell_type": "code",
   "execution_count": null,
   "id": "6a55dd63",
   "metadata": {},
   "outputs": [],
   "source": []
  },
  {
   "cell_type": "code",
   "execution_count": null,
   "id": "bc992e86",
   "metadata": {},
   "outputs": [],
   "source": []
  },
  {
   "cell_type": "code",
   "execution_count": null,
   "id": "81af7695",
   "metadata": {},
   "outputs": [],
   "source": []
  },
  {
   "cell_type": "code",
   "execution_count": null,
   "id": "f635740c",
   "metadata": {},
   "outputs": [],
   "source": []
  },
  {
   "cell_type": "code",
   "execution_count": null,
   "id": "96bfed1a",
   "metadata": {},
   "outputs": [],
   "source": []
  },
  {
   "cell_type": "code",
   "execution_count": null,
   "id": "12327cdf",
   "metadata": {},
   "outputs": [],
   "source": []
  },
  {
   "cell_type": "code",
   "execution_count": null,
   "id": "c8953365",
   "metadata": {},
   "outputs": [],
   "source": []
  },
  {
   "cell_type": "code",
   "execution_count": null,
   "id": "fdf39982",
   "metadata": {},
   "outputs": [],
   "source": []
  },
  {
   "cell_type": "code",
   "execution_count": null,
   "id": "df4aa998",
   "metadata": {},
   "outputs": [],
   "source": []
  },
  {
   "cell_type": "code",
   "execution_count": null,
   "id": "95fbbd98",
   "metadata": {},
   "outputs": [],
   "source": []
  }
 ],
 "metadata": {
  "kernelspec": {
   "display_name": "Python 3 (ipykernel)",
   "language": "python",
   "name": "python3"
  },
  "language_info": {
   "codemirror_mode": {
    "name": "ipython",
    "version": 3
   },
   "file_extension": ".py",
   "mimetype": "text/x-python",
   "name": "python",
   "nbconvert_exporter": "python",
   "pygments_lexer": "ipython3",
   "version": "3.9.12"
  },
  "toc": {
   "base_numbering": 1,
   "nav_menu": {},
   "number_sections": true,
   "sideBar": true,
   "skip_h1_title": false,
   "title_cell": "Table of Contents",
   "title_sidebar": "Contents",
   "toc_cell": false,
   "toc_position": {},
   "toc_section_display": true,
   "toc_window_display": false
  },
  "varInspector": {
   "cols": {
    "lenName": 16,
    "lenType": 16,
    "lenVar": 40
   },
   "kernels_config": {
    "python": {
     "delete_cmd_postfix": "",
     "delete_cmd_prefix": "del ",
     "library": "var_list.py",
     "varRefreshCmd": "print(var_dic_list())"
    },
    "r": {
     "delete_cmd_postfix": ") ",
     "delete_cmd_prefix": "rm(",
     "library": "var_list.r",
     "varRefreshCmd": "cat(var_dic_list()) "
    }
   },
   "position": {
    "height": "144.844px",
    "left": "2173px",
    "right": "20px",
    "top": "129px",
    "width": "350px"
   },
   "types_to_exclude": [
    "module",
    "function",
    "builtin_function_or_method",
    "instance",
    "_Feature"
   ],
   "window_display": true
  }
 },
 "nbformat": 4,
 "nbformat_minor": 5
}

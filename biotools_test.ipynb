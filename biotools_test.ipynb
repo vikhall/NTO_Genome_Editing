{
 "cells": [
  {
   "cell_type": "code",
   "execution_count": 1,
   "id": "6ed1d4f0",
   "metadata": {
    "ExecuteTime": {
     "end_time": "2023-02-08T09:47:20.201966Z",
     "start_time": "2023-02-08T09:47:20.177749Z"
    }
   },
   "outputs": [],
   "source": [
    "import biotools"
   ]
  },
  {
   "cell_type": "code",
   "execution_count": 2,
   "id": "8766b0e0",
   "metadata": {
    "ExecuteTime": {
     "end_time": "2023-02-08T09:47:21.022891Z",
     "start_time": "2023-02-08T09:47:21.007886Z"
    }
   },
   "outputs": [
    {
     "data": {
      "text/plain": [
       "['NAME',\n",
       " '__builtins__',\n",
       " '__cached__',\n",
       " '__doc__',\n",
       " '__file__',\n",
       " '__loader__',\n",
       " '__name__',\n",
       " '__package__',\n",
       " '__path__',\n",
       " '__spec__',\n",
       " 'calculate_lig',\n",
       " 'calculate_mass',\n",
       " 'find_restriction_site',\n",
       " 'find_target',\n",
       " 'get_primer',\n",
       " 'get_primer_pair',\n",
       " 'get_rev_compl',\n",
       " 'get_reverse_primer']"
      ]
     },
     "execution_count": 2,
     "metadata": {},
     "output_type": "execute_result"
    }
   ],
   "source": [
    "dir(biotools)"
   ]
  },
  {
   "cell_type": "markdown",
   "id": "83499fa8",
   "metadata": {},
   "source": [
    "# Приготовление раствора"
   ]
  },
  {
   "cell_type": "code",
   "execution_count": 3,
   "id": "2dce5b71",
   "metadata": {
    "ExecuteTime": {
     "end_time": "2023-02-08T09:47:21.842435Z",
     "start_time": "2023-02-08T09:47:21.827436Z"
    }
   },
   "outputs": [
    {
     "name": "stdout",
     "output_type": "stream",
     "text": [
      "Вам необходимо добавить 24г вещества!\n"
     ]
    },
    {
     "data": {
      "text/plain": [
       "24"
      ]
     },
     "execution_count": 3,
     "metadata": {},
     "output_type": "execute_result"
    }
   ],
   "source": [
    "biotools.calculate_mass(2,3,4)"
   ]
  },
  {
   "cell_type": "markdown",
   "id": "27a4f9f8",
   "metadata": {},
   "source": [
    "# Разведение растворов"
   ]
  },
  {
   "cell_type": "code",
   "execution_count": 4,
   "id": "fd35b2d9",
   "metadata": {
    "ExecuteTime": {
     "end_time": "2023-02-08T09:47:22.669012Z",
     "start_time": "2023-02-08T09:47:22.654964Z"
    }
   },
   "outputs": [
    {
     "name": "stdout",
     "output_type": "stream",
     "text": [
      "5.0 0.67 11.33\n"
     ]
    }
   ],
   "source": [
    "biotools.calculate_lig(2,3)"
   ]
  },
  {
   "cell_type": "markdown",
   "id": "f5929ee5",
   "metadata": {},
   "source": [
    "# Поиск сайтов рестрикции"
   ]
  },
  {
   "cell_type": "code",
   "execution_count": 5,
   "id": "e3e4c1e2",
   "metadata": {
    "ExecuteTime": {
     "end_time": "2023-02-08T09:47:23.490429Z",
     "start_time": "2023-02-08T09:47:23.476086Z"
    }
   },
   "outputs": [
    {
     "data": {
      "text/plain": [
       "True"
      ]
     },
     "execution_count": 5,
     "metadata": {},
     "output_type": "execute_result"
    }
   ],
   "source": [
    "biotools.find_restriction_site('ATNRY', 'ATAGCATTATCACACAGA')"
   ]
  },
  {
   "cell_type": "markdown",
   "id": "c8a446ee",
   "metadata": {},
   "source": [
    "# Обратно комплиментарная последовательность"
   ]
  },
  {
   "cell_type": "code",
   "execution_count": 6,
   "id": "8539fa54",
   "metadata": {
    "ExecuteTime": {
     "end_time": "2023-02-08T09:47:24.309449Z",
     "start_time": "2023-02-08T09:47:24.294444Z"
    }
   },
   "outputs": [
    {
     "data": {
      "text/plain": [
       "'TCTGTGTGATAATGCTAT'"
      ]
     },
     "execution_count": 6,
     "metadata": {},
     "output_type": "execute_result"
    }
   ],
   "source": [
    "biotools.get_rev_compl('ATAGCATTATCACACAGA')"
   ]
  },
  {
   "cell_type": "markdown",
   "id": "5b0ecd81",
   "metadata": {},
   "source": [
    "# Поиск таргета для CRISPR/Cas"
   ]
  },
  {
   "cell_type": "code",
   "execution_count": 7,
   "id": "2f229e29",
   "metadata": {
    "ExecuteTime": {
     "end_time": "2023-02-08T09:47:25.129475Z",
     "start_time": "2023-02-08T09:47:25.114475Z"
    }
   },
   "outputs": [
    {
     "name": "stdout",
     "output_type": "stream",
     "text": [
      "['TAGCTACGATGCAAGAAAGAT', 'CTTGCATCGTAGCTAGAAACG', 'TTGCATCGTAGCTAGAAACGA', 'CATCGTAGCTAGAAACGATCG']\n"
     ]
    },
    {
     "data": {
      "text/plain": [
       "['TAGCTACGATGCAAGAAAGAT',\n",
       " 'CTTGCATCGTAGCTAGAAACG',\n",
       " 'TTGCATCGTAGCTAGAAACGA',\n",
       " 'CATCGTAGCTAGAAACGATCG']"
      ]
     },
     "execution_count": 7,
     "metadata": {},
     "output_type": "execute_result"
    }
   ],
   "source": [
    "biotools.find_target('TAGCTACGATCGATCGTTTCTAGCTACGATGCAAGAAAGATCGATCGATCGACGTACG', 'YTTN', 'L', 21)"
   ]
  },
  {
   "cell_type": "markdown",
   "id": "7ac665d0",
   "metadata": {},
   "source": [
    "# Подбор праймеров"
   ]
  },
  {
   "cell_type": "code",
   "execution_count": 8,
   "id": "d5dbcff6",
   "metadata": {
    "ExecuteTime": {
     "end_time": "2023-02-08T09:47:25.952944Z",
     "start_time": "2023-02-08T09:47:25.937960Z"
    }
   },
   "outputs": [
    {
     "data": {
      "text/plain": [
       "'CAATGCATCGATCGATCGAC'"
      ]
     },
     "execution_count": 8,
     "metadata": {},
     "output_type": "execute_result"
    }
   ],
   "source": [
    "biotools.get_primer('AATATACATACAATGCATCGATCGATCGACTAGCTAGCATCGATCGATCAGCTAGCATCGATC', 20)"
   ]
  },
  {
   "cell_type": "markdown",
   "id": "ba2e343d",
   "metadata": {},
   "source": [
    "# Подбор обратного праймера"
   ]
  },
  {
   "cell_type": "code",
   "execution_count": 10,
   "id": "d846194a",
   "metadata": {
    "ExecuteTime": {
     "end_time": "2023-02-08T09:48:19.954954Z",
     "start_time": "2023-02-08T09:48:19.937955Z"
    }
   },
   "outputs": [
    {
     "data": {
      "text/plain": [
       "'TGCTAGCTGATCGATCGATG'"
      ]
     },
     "execution_count": 10,
     "metadata": {},
     "output_type": "execute_result"
    }
   ],
   "source": [
    "forward = biotools.get_primer('AATATACATACAATGCATCGATCGATCGACTAGCTAGCATCGATCGATCAGCTAGCATCGATC', 20)\n",
    "reverse = biotools.get_reverse_primer('AATATACATACAATGCATCGATCGATCGACTAGCTAGCATCGATCGATCAGCTAGCATCGATC', forward, 20, 45, 100)\n",
    "reverse"
   ]
  },
  {
   "cell_type": "code",
   "execution_count": null,
   "id": "022d9210",
   "metadata": {},
   "outputs": [],
   "source": []
  }
 ],
 "metadata": {
  "kernelspec": {
   "display_name": "Python 3 (ipykernel)",
   "language": "python",
   "name": "python3"
  },
  "language_info": {
   "codemirror_mode": {
    "name": "ipython",
    "version": 3
   },
   "file_extension": ".py",
   "mimetype": "text/x-python",
   "name": "python",
   "nbconvert_exporter": "python",
   "pygments_lexer": "ipython3",
   "version": "3.9.12"
  },
  "toc": {
   "base_numbering": 1,
   "nav_menu": {},
   "number_sections": true,
   "sideBar": true,
   "skip_h1_title": false,
   "title_cell": "Table of Contents",
   "title_sidebar": "Contents",
   "toc_cell": false,
   "toc_position": {},
   "toc_section_display": true,
   "toc_window_display": false
  },
  "varInspector": {
   "cols": {
    "lenName": 16,
    "lenType": 16,
    "lenVar": 40
   },
   "kernels_config": {
    "python": {
     "delete_cmd_postfix": "",
     "delete_cmd_prefix": "del ",
     "library": "var_list.py",
     "varRefreshCmd": "print(var_dic_list())"
    },
    "r": {
     "delete_cmd_postfix": ") ",
     "delete_cmd_prefix": "rm(",
     "library": "var_list.r",
     "varRefreshCmd": "cat(var_dic_list()) "
    }
   },
   "types_to_exclude": [
    "module",
    "function",
    "builtin_function_or_method",
    "instance",
    "_Feature"
   ],
   "window_display": false
  }
 },
 "nbformat": 4,
 "nbformat_minor": 5
}

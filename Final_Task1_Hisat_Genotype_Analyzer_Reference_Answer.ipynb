{
 "cells": [
  {
   "cell_type": "code",
   "execution_count": 1,
   "metadata": {},
   "outputs": [],
   "source": [
    "import pandas as pd\n",
    "import seaborn as sns\n",
    "import matplotlib.pyplot as plt"
   ]
  },
  {
   "cell_type": "code",
   "execution_count": 2,
   "metadata": {},
   "outputs": [],
   "source": [
    "gene_list, alel_list, abun_list = [], [], []\n",
    "def read_and_filter(file, threshold=10):\n",
    "    with open(file) as infile:\n",
    "        for line in infile:\n",
    "            if 'abundance' in line:\n",
    "                gene = line.strip().split(' ')[2].split('*')[0]\n",
    "                alel = line.strip().split(' ')[2].split('*')[1]\n",
    "                abun = float(line.strip().split(' ')[4].split('%')[0])\n",
    "                \n",
    "                if abun >= threshold:\n",
    "                    gene_list.append(gene)\n",
    "                    alel_list.append(alel)\n",
    "                    abun_list.append(abun)\n",
    "                    \n",
    "    gene_alel_abun_dict = {'Gene':gene_list, 'Variant':alel_list, 'Abundance':abun_list}\n",
    "    \n",
    "    filtered_df = pd.DataFrame.from_dict(gene_alel_abun_dict)\n",
    "    \n",
    "    return filtered_df"
   ]
  },
  {
   "cell_type": "code",
   "execution_count": 3,
   "metadata": {},
   "outputs": [],
   "source": [
    "df = read_and_filter('NA12877.hla.report.txt')"
   ]
  },
  {
   "cell_type": "code",
   "execution_count": 4,
   "metadata": {},
   "outputs": [
    {
     "data": {
      "text/html": [
       "<div>\n",
       "<style scoped>\n",
       "    .dataframe tbody tr th:only-of-type {\n",
       "        vertical-align: middle;\n",
       "    }\n",
       "\n",
       "    .dataframe tbody tr th {\n",
       "        vertical-align: top;\n",
       "    }\n",
       "\n",
       "    .dataframe thead th {\n",
       "        text-align: right;\n",
       "    }\n",
       "</style>\n",
       "<table border=\"1\" class=\"dataframe\">\n",
       "  <thead>\n",
       "    <tr style=\"text-align: right;\">\n",
       "      <th></th>\n",
       "      <th>Gene</th>\n",
       "      <th>Variant</th>\n",
       "      <th>Abundance</th>\n",
       "    </tr>\n",
       "  </thead>\n",
       "  <tbody>\n",
       "    <tr>\n",
       "      <th>0</th>\n",
       "      <td>A</td>\n",
       "      <td>03:01:01:01</td>\n",
       "      <td>29.54</td>\n",
       "    </tr>\n",
       "    <tr>\n",
       "      <th>1</th>\n",
       "      <td>A</td>\n",
       "      <td>02:01:01:01</td>\n",
       "      <td>28.58</td>\n",
       "    </tr>\n",
       "    <tr>\n",
       "      <th>2</th>\n",
       "      <td>A</td>\n",
       "      <td>03:21N</td>\n",
       "      <td>18.14</td>\n",
       "    </tr>\n",
       "    <tr>\n",
       "      <th>3</th>\n",
       "      <td>A</td>\n",
       "      <td>03:78</td>\n",
       "      <td>18.14</td>\n",
       "    </tr>\n",
       "    <tr>\n",
       "      <th>4</th>\n",
       "      <td>B</td>\n",
       "      <td>44:02:01:01</td>\n",
       "      <td>28.93</td>\n",
       "    </tr>\n",
       "    <tr>\n",
       "      <th>...</th>\n",
       "      <td>...</td>\n",
       "      <td>...</td>\n",
       "      <td>...</td>\n",
       "    </tr>\n",
       "    <tr>\n",
       "      <th>59</th>\n",
       "      <td>TAP1</td>\n",
       "      <td>06:01</td>\n",
       "      <td>40.53</td>\n",
       "    </tr>\n",
       "    <tr>\n",
       "      <th>60</th>\n",
       "      <td>TAP1</td>\n",
       "      <td>01:02N</td>\n",
       "      <td>13.53</td>\n",
       "    </tr>\n",
       "    <tr>\n",
       "      <th>61</th>\n",
       "      <td>TAP2</td>\n",
       "      <td>01:04</td>\n",
       "      <td>69.84</td>\n",
       "    </tr>\n",
       "    <tr>\n",
       "      <th>62</th>\n",
       "      <td>TAP2</td>\n",
       "      <td>01:01:02</td>\n",
       "      <td>30.16</td>\n",
       "    </tr>\n",
       "    <tr>\n",
       "      <th>63</th>\n",
       "      <td>V</td>\n",
       "      <td>01:01:01:01</td>\n",
       "      <td>100.00</td>\n",
       "    </tr>\n",
       "  </tbody>\n",
       "</table>\n",
       "<p>64 rows × 3 columns</p>\n",
       "</div>"
      ],
      "text/plain": [
       "    Gene      Variant  Abundance\n",
       "0      A  03:01:01:01      29.54\n",
       "1      A  02:01:01:01      28.58\n",
       "2      A       03:21N      18.14\n",
       "3      A        03:78      18.14\n",
       "4      B  44:02:01:01      28.93\n",
       "..   ...          ...        ...\n",
       "59  TAP1        06:01      40.53\n",
       "60  TAP1       01:02N      13.53\n",
       "61  TAP2        01:04      69.84\n",
       "62  TAP2     01:01:02      30.16\n",
       "63     V  01:01:01:01     100.00\n",
       "\n",
       "[64 rows x 3 columns]"
      ]
     },
     "execution_count": 4,
     "metadata": {},
     "output_type": "execute_result"
    }
   ],
   "source": [
    "df"
   ]
  },
  {
   "cell_type": "code",
   "execution_count": 5,
   "metadata": {},
   "outputs": [],
   "source": [
    "def write_2_excel(df, filename, genes='All'):\n",
    "    if genes == 'All':\n",
    "        df.to_excel(filename[:-4]+'.xlsx', index=False)\n",
    "    else:\n",
    "        df_subset = df[df['Gene'].isin(genes)]\n",
    "        df_subset.to_excel(filename[:-4]+'_subset.xlsx', index=False)"
   ]
  },
  {
   "cell_type": "code",
   "execution_count": 6,
   "metadata": {},
   "outputs": [],
   "source": [
    "write_2_excel(df, 'NA12877.hla.report.txt')"
   ]
  },
  {
   "cell_type": "code",
   "execution_count": 8,
   "metadata": {},
   "outputs": [],
   "source": [
    "def plot_variants(df, gene='All'):\n",
    "    \n",
    "    df['Gene_Var'] = df.Gene + ':' + df.Variant\n",
    "    \n",
    "    if gene == 'All':\n",
    "        sns.set(rc={'figure.figsize':(11.7,11.27)})\n",
    "        sns.barplot(data = df, x = 'Abundance', y = 'Gene_Var')\n",
    "        \n",
    "    else:\n",
    "        df_subset = df[df['Gene'] == gene]\n",
    "        plt.pie(df_subset.Abundance, labels=df_subset.Variant, autopct='%.0f%%')\n",
    "        plt.title(f\"Variant abundances for gene {gene}\")"
   ]
  },
  {
   "cell_type": "code",
   "execution_count": 11,
   "metadata": {},
   "outputs": [],
   "source": [
    "def hisat_genotype_analyzer(file, mode, threshold=10, genes='All'):\n",
    "    \"\"\"\n",
    "    param \n",
    "    \"\"\"\n",
    "    \n",
    "    hisat_genotype_df = read_and_filter(file, threshold)\n",
    "    \n",
    "    if mode == 'write' or mode == 'excel':\n",
    "        write_2_excel(hisat_genotype_df, file, genes)\n",
    "        \n",
    "    elif mode == 'plot' or mode == 'figure' or mode == 'fig':\n",
    "        plot_variants(hisat_genotype_df, genes)\n",
    "        \n",
    "    else:\n",
    "        print(f'I can not do {mode}')\n",
    "        print('Chose one of the existing modes: wrte or plot')"
   ]
  },
  {
   "cell_type": "code",
   "execution_count": 12,
   "metadata": {},
   "outputs": [],
   "source": [
    "hisat_genotype_analyzer('NA12877.hla.report.txt', 'excel', genes=['A','B'])"
   ]
  },
  {
   "cell_type": "code",
   "execution_count": null,
   "metadata": {},
   "outputs": [],
   "source": []
  }
 ],
 "metadata": {
  "kernelspec": {
   "display_name": "Python 3 (ipykernel)",
   "language": "python",
   "name": "python3"
  },
  "language_info": {
   "codemirror_mode": {
    "name": "ipython",
    "version": 3
   },
   "file_extension": ".py",
   "mimetype": "text/x-python",
   "name": "python",
   "nbconvert_exporter": "python",
   "pygments_lexer": "ipython3",
   "version": "3.9.12"
  },
  "toc": {
   "base_numbering": 1,
   "nav_menu": {},
   "number_sections": true,
   "sideBar": true,
   "skip_h1_title": false,
   "title_cell": "Table of Contents",
   "title_sidebar": "Contents",
   "toc_cell": false,
   "toc_position": {},
   "toc_section_display": true,
   "toc_window_display": false
  },
  "varInspector": {
   "cols": {
    "lenName": 16,
    "lenType": 16,
    "lenVar": 40
   },
   "kernels_config": {
    "python": {
     "delete_cmd_postfix": "",
     "delete_cmd_prefix": "del ",
     "library": "var_list.py",
     "varRefreshCmd": "print(var_dic_list())"
    },
    "r": {
     "delete_cmd_postfix": ") ",
     "delete_cmd_prefix": "rm(",
     "library": "var_list.r",
     "varRefreshCmd": "cat(var_dic_list()) "
    }
   },
   "types_to_exclude": [
    "module",
    "function",
    "builtin_function_or_method",
    "instance",
    "_Feature"
   ],
   "window_display": false
  }
 },
 "nbformat": 4,
 "nbformat_minor": 2
}
